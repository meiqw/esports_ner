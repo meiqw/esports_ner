{
 "cells": [
  {
   "cell_type": "code",
   "execution_count": 1,
   "metadata": {},
   "outputs": [],
   "source": [
    "from dota2_knowledge_base import Dota2KnowledgeBase"
   ]
  },
  {
   "cell_type": "code",
   "execution_count": 2,
   "metadata": {},
   "outputs": [],
   "source": [
    "dota2_kb = Dota2KnowledgeBase(\n",
    "    player_file_name=\"dota2_players.json\",\n",
    "    team_file_name=\"dota2_teams.json\",\n",
    "    tournament_file_name=\"dota2_tournaments.json\"\n",
    ")"
   ]
  },
  {
   "cell_type": "code",
   "execution_count": 3,
   "metadata": {},
   "outputs": [
    {
     "data": {
      "text/plain": [
       "{'country': 'Canada',\n",
       " 'ID': '1437',\n",
       " 'Name': 'Sivatheeban Sivanathapillai',\n",
       " 'Team': '',\n",
       " 'Links': {'twitter': 'https://twitter.com/1437x',\n",
       "  'facebook': 'http://facebook.com/1437tv',\n",
       "  'twitch': 'https://www.twitch.tv/1437'}}"
      ]
     },
     "execution_count": 3,
     "metadata": {},
     "output_type": "execute_result"
    }
   ],
   "source": [
    "dota2_kb.get_matching_player('1437')"
   ]
  },
  {
   "cell_type": "code",
   "execution_count": 4,
   "metadata": {},
   "outputs": [
    {
     "data": {
      "text/plain": [
       "{'country': 'Canada',\n",
       " 'ID': 'Arteezy',\n",
       " 'Name': 'Artour Babaev',\n",
       " 'Team': ' Evil Geniuses',\n",
       " 'Links': {'twitter': 'https://twitter.com/arteezy',\n",
       "  'facebook': 'http://facebook.com/arteezydota',\n",
       "  'vk': 'http://vk.com/arteezydota',\n",
       "  'twitch': 'https://www.twitch.tv/arteezy'}}"
      ]
     },
     "execution_count": 4,
     "metadata": {},
     "output_type": "execute_result"
    }
   ],
   "source": [
    "dota2_kb.get_matching_player('Artour')\n"
   ]
  },
  {
   "cell_type": "code",
   "execution_count": null,
   "metadata": {},
   "outputs": [],
   "source": []
  }
 ],
 "metadata": {
  "file_extension": ".py",
  "kernelspec": {
   "display_name": "Python 3",
   "language": "python",
   "name": "python3"
  },
  "language_info": {
   "codemirror_mode": {
    "name": "ipython",
    "version": 3
   },
   "file_extension": ".py",
   "mimetype": "text/x-python",
   "name": "python",
   "nbconvert_exporter": "python",
   "pygments_lexer": "ipython3",
   "version": "3.7.1"
  },
  "mimetype": "text/x-python",
  "name": "python",
  "npconvert_exporter": "python",
  "pygments_lexer": "ipython3",
  "version": 3.0
 },
 "nbformat": 4,
 "nbformat_minor": 2
}
