{
 "cells": [
  {
   "cell_type": "code",
   "execution_count": 1,
   "metadata": {},
   "outputs": [],
   "source": [
    "from typing import Mapping, Sequence, Dict, Optional, List, Iterable\n",
    "\n",
    "import json, pickle\n",
    "from copy import deepcopy\n",
    "\n",
    "import spacy\n",
    "from spacy.tokens import Doc, Span, Token\n",
    "from utils import (\n",
    "    ingest_json_document,\n",
    "    evaluate_and_print,\n",
    ")\n",
    "\n",
    "\n",
    "from feature_extractors import (\n",
    "    BiasFeature,\n",
    "    TokenFeature,\n",
    "    DigitFeature,\n",
    "    UppercaseFeature,\n",
    "    TitlecaseFeature,\n",
    "    InitialTitlecaseFeature,\n",
    "    PunctuationFeature,\n",
    "    WordShapeFeature,\n",
    "    LikelyAdjectiveFeature,\n",
    "    AfterVerbFeature,\n",
    "    WordVectorFeature,\n",
    "    BrownClusterFeature,\n",
    "    WindowedTokenFeatureExtractor,\n",
    ")\n",
    "\n",
    "from entity_recognizer import (\n",
    "    BILOUEncoder,\n",
    "    CRFsuiteEntityRecognizer,\n",
    ")"
   ]
  },
  {
   "cell_type": "code",
   "execution_count": 2,
   "metadata": {},
   "outputs": [],
   "source": [
    "nlp = spacy.load(\"en_core_web_sm\", disable=[\"ner\"])\n",
    "with open('data/corpus_train.jsonl', 'r', encoding='utf8', errors='ignore') as train_file:\n",
    "    train_docs = [ingest_json_document(json.loads(line), nlp) for line in train_file]\n",
    "\n",
    "with open('data/corpus_dev.jsonl', 'r', encoding='utf8', errors='ignore') as dev_file:\n",
    "    dev_docs = [ingest_json_document(json.loads(line), nlp) for line in dev_file]"
   ]
  },
  {
   "cell_type": "code",
   "execution_count": 3,
   "metadata": {},
   "outputs": [],
   "source": [
    "dev_gold = deepcopy(dev_docs)\n",
    "for doc in dev_docs:\n",
    "    doc.ents = []"
   ]
  },
  {
   "cell_type": "code",
   "execution_count": 4,
   "metadata": {},
   "outputs": [],
   "source": [
    "word_vector_file_path = \"models/wiki-news-300d-1M-subword.magnitude\"\n",
    "brown_cluster_file_path = \"models/rcv1.64M-c10240-p1.paths\"\n",
    "\n",
    "best_features = [\n",
    "        BiasFeature(),\n",
    "        TokenFeature(),\n",
    "        UppercaseFeature(),\n",
    "        TitlecaseFeature(),\n",
    "        # InitialTitlecaseFeature(),\n",
    "        DigitFeature(),\n",
    "        PunctuationFeature(),\n",
    "        WordShapeFeature(),\n",
    "        # LikelyAdjectiveFeature(),\n",
    "        # AfterVerbFeature(),\n",
    "        # WordVectorFeature(word_vector_file_path, 1.0),\n",
    "        # BrownClusterFeature(\n",
    "        #     brown_cluster_file_path,\n",
    "        #     use_full_paths=False,\n",
    "        #     use_prefixes=True,\n",
    "        #     prefixes=[4, 6, 10, 20],\n",
    "        # ),\n",
    "    ]\n",
    "\n",
    "crf_model = CRFsuiteEntityRecognizer(\n",
    "    WindowedTokenFeatureExtractor(best_features, 2), BILOUEncoder()\n",
    ")"
   ]
  },
  {
   "cell_type": "code",
   "execution_count": 5,
   "metadata": {},
   "outputs": [
    {
     "name": "stdout",
     "output_type": "stream",
     "text": [
      "CPU times: user 3.38 s, sys: 164 ms, total: 3.54 s\n",
      "Wall time: 3.54 s\n"
     ]
    }
   ],
   "source": [
    "%%time\n",
    "crf_model.train(train_docs, \"ap\", {\"max_iterations\": 100}, \"tmp.model\")"
   ]
  },
  {
   "cell_type": "code",
   "execution_count": 6,
   "metadata": {},
   "outputs": [
    {
     "name": "stderr",
     "output_type": "stream",
     "text": [
      "Type\tPrec\tRec\tF1\n",
      "ALL\t62.83\t54.22\t58.21\n",
      "AVATAR\t63.04\t36.71\t46.40\n",
      "GAME\t80\t88.89\t84.21\n",
      "ORG\t79.56\t60\t68.41\n",
      "PLAYER\t47.40\t49.40\t48.38\n",
      "SPONS\t0\t0\t0\n",
      "TOURN\t53.06\t66.67\t59.09\n"
     ]
    }
   ],
   "source": [
    "dev_predicted = [crf_model(doc) for doc in dev_docs]\n",
    "evaluate_and_print(dev_gold, dev_predicted)"
   ]
  },
  {
   "cell_type": "code",
   "execution_count": null,
   "metadata": {},
   "outputs": [],
   "source": []
  }
 ],
 "metadata": {
  "file_extension": ".py",
  "kernelspec": {
   "display_name": "Python 3",
   "language": "python",
   "name": "python3"
  },
  "language_info": {
   "codemirror_mode": {
    "name": "ipython",
    "version": 3
   },
   "file_extension": ".py",
   "mimetype": "text/x-python",
   "name": "python",
   "nbconvert_exporter": "python",
   "pygments_lexer": "ipython3",
   "version": "3.7.1"
  },
  "mimetype": "text/x-python",
  "name": "python",
  "npconvert_exporter": "python",
  "pygments_lexer": "ipython3",
  "version": 3
 },
 "nbformat": 4,
 "nbformat_minor": 2
}
